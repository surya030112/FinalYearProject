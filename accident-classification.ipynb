{
 "cells": [
  {
   "cell_type": "code",
   "execution_count": 1,
   "id": "c22e4849",
   "metadata": {
    "_cell_guid": "b1076dfc-b9ad-4769-8c92-a6c4dae69d19",
    "_uuid": "8f2839f25d086af736a60e9eeb907d3b93b6e0e5",
    "papermill": {
     "duration": 6.715324,
     "end_time": "2022-06-06T11:22:10.972115",
     "exception": false,
     "start_time": "2022-06-06T11:22:04.256791",
     "status": "completed"
    },
    "tags": []
   },
   "outputs": [],
   "source": [
    "import numpy as np\n",
    "import pandas as pd \n",
    "import matplotlib.pyplot as plt\n",
    "import tensorflow as tf\n",
    "from tensorflow.keras import layers\n",
    "from time import perf_counter \n",
    "import os\n",
    "from keras.callbacks import ModelCheckpoint\n",
    "from keras.models import load_model\n",
    "from tensorflow.keras.utils import plot_model"
   ]
  },
  {
   "cell_type": "code",
   "execution_count": 2,
   "id": "75070279",
   "metadata": {
    "papermill": {
     "duration": 0.021664,
     "end_time": "2022-06-06T11:22:11.008874",
     "exception": false,
     "start_time": "2022-06-06T11:22:10.987210",
     "status": "completed"
    },
    "tags": []
   },
   "outputs": [],
   "source": [
    "## Defining batch specfications\n",
    "batch_size = 100\n",
    "img_height = 250\n",
    "img_width = 250"
   ]
  },
  {
   "cell_type": "code",
   "execution_count": 3,
   "id": "eed3d696",
   "metadata": {
    "papermill": {
     "duration": 0.258275,
     "end_time": "2022-06-06T11:22:11.281841",
     "exception": false,
     "start_time": "2022-06-06T11:22:11.023566",
     "status": "completed"
    },
    "tags": []
   },
   "outputs": [
    {
     "name": "stdout",
     "output_type": "stream",
     "text": [
      "Found 791 files belonging to 2 classes.\n"
     ]
    }
   ],
   "source": [
    "## loading training set\n",
    "training_data = tf.keras.preprocessing.image_dataset_from_directory(\n",
    "    'data/train',\n",
    "    seed=42,\n",
    "    image_size= (img_height, img_width),\n",
    "    batch_size=batch_size,\n",
    "    color_mode='rgb'\n",
    ")"
   ]
  },
  {
   "cell_type": "code",
   "execution_count": 4,
   "id": "d52bb780",
   "metadata": {
    "papermill": {
     "duration": 0.141084,
     "end_time": "2022-06-06T11:22:11.438707",
     "exception": false,
     "start_time": "2022-06-06T11:22:11.297623",
     "status": "completed"
    },
    "tags": []
   },
   "outputs": [
    {
     "name": "stdout",
     "output_type": "stream",
     "text": [
      "Found 98 files belonging to 2 classes.\n"
     ]
    }
   ],
   "source": [
    "## loading validation dataset\n",
    "validation_data =  tf.keras.preprocessing.image_dataset_from_directory(\n",
    "    'data/val',\n",
    "    seed=42,\n",
    "    image_size= (img_height, img_width),\n",
    "    batch_size=batch_size,\n",
    "    color_mode='rgb'\n",
    ")"
   ]
  },
  {
   "cell_type": "code",
   "execution_count": 5,
   "id": "a5216ed0",
   "metadata": {
    "papermill": {
     "duration": 0.142358,
     "end_time": "2022-06-06T11:22:11.597671",
     "exception": false,
     "start_time": "2022-06-06T11:22:11.455313",
     "status": "completed"
    },
    "tags": []
   },
   "outputs": [
    {
     "name": "stdout",
     "output_type": "stream",
     "text": [
      "Found 100 files belonging to 2 classes.\n"
     ]
    }
   ],
   "source": [
    "## loading testing dataset\n",
    "testing_data = tf.keras.preprocessing.image_dataset_from_directory(\n",
    "    'data/test',\n",
    "    seed=42,\n",
    "    image_size= (img_height, img_width),\n",
    "    batch_size=batch_size,\n",
    "    color_mode='rgb'\n",
    ")"
   ]
  },
  {
   "cell_type": "code",
   "execution_count": 6,
   "id": "0f6cb045",
   "metadata": {
    "papermill": {
     "duration": 0.029358,
     "end_time": "2022-06-06T11:22:11.643040",
     "exception": false,
     "start_time": "2022-06-06T11:22:11.613682",
     "status": "completed"
    },
    "tags": []
   },
   "outputs": [
    {
     "data": {
      "text/plain": [
       "<_BatchDataset element_spec=(TensorSpec(shape=(None, 250, 250, 3), dtype=tf.float32, name=None), TensorSpec(shape=(None,), dtype=tf.int32, name=None))>"
      ]
     },
     "execution_count": 6,
     "metadata": {},
     "output_type": "execute_result"
    }
   ],
   "source": [
    "testing_data"
   ]
  },
  {
   "cell_type": "code",
   "execution_count": 7,
   "id": "cca4892e",
   "metadata": {
    "papermill": {
     "duration": 0.025718,
     "end_time": "2022-06-06T11:22:11.685637",
     "exception": false,
     "start_time": "2022-06-06T11:22:11.659919",
     "status": "completed"
    },
    "tags": []
   },
   "outputs": [
    {
     "data": {
      "text/plain": [
       "['Accident', 'Non Accident']"
      ]
     },
     "execution_count": 7,
     "metadata": {},
     "output_type": "execute_result"
    }
   ],
   "source": [
    "class_names = training_data.class_names\n",
    "class_names"
   ]
  },
  {
   "cell_type": "code",
   "execution_count": 8,
   "id": "5176cc78",
   "metadata": {
    "papermill": {
     "duration": 0.027549,
     "end_time": "2022-06-06T11:22:11.729835",
     "exception": false,
     "start_time": "2022-06-06T11:22:11.702286",
     "status": "completed"
    },
    "tags": []
   },
   "outputs": [],
   "source": [
    "## Configuring dataset for performance\n",
    "AUTOTUNE = tf.data.experimental.AUTOTUNE\n",
    "training_data = training_data.cache().prefetch(buffer_size=AUTOTUNE)\n",
    "testing_data = testing_data.cache().prefetch(buffer_size=AUTOTUNE)"
   ]
  },
  {
   "cell_type": "code",
   "execution_count": 9,
   "id": "82bc89e3",
   "metadata": {
    "papermill": {
     "duration": 0.079717,
     "end_time": "2022-06-06T11:22:11.827076",
     "exception": false,
     "start_time": "2022-06-06T11:22:11.747359",
     "status": "completed"
    },
    "tags": []
   },
   "outputs": [],
   "source": [
    "## Defining Cnn\n",
    "model = tf.keras.models.Sequential([\n",
    "  layers.BatchNormalization(),\n",
    "  layers.Conv2D(32, 3, activation='relu'), # Conv2D(f_size, filter_size, activation) # relu, sigmoid, softmax\n",
    "  layers.MaxPooling2D(), # MaxPooling\n",
    "  layers.Conv2D(64, 3, activation='relu'),\n",
    "  layers.MaxPooling2D(),\n",
    "  layers.Conv2D(128, 3, activation='relu'),\n",
    "  layers.MaxPooling2D(),\n",
    "  layers.Conv2D(256, 3, activation='relu'),\n",
    "  layers.MaxPooling2D(),\n",
    "  layers.Flatten(),\n",
    "  layers.Dense(512, activation='relu'),\n",
    "  layers.Dense(len(class_names), activation= 'softmax')\n",
    "])\n",
    "\n",
    "model.compile(optimizer='adam',loss='sparse_categorical_crossentropy', metrics=['accuracy'])"
   ]
  },
  {
   "cell_type": "code",
   "execution_count": 10,
   "id": "3c69caf5",
   "metadata": {
    "papermill": {
     "duration": 0.306291,
     "end_time": "2022-06-06T11:22:12.150305",
     "exception": false,
     "start_time": "2022-06-06T11:22:11.844014",
     "status": "completed"
    },
    "tags": []
   },
   "outputs": [
    {
     "name": "stdout",
     "output_type": "stream",
     "text": [
      "Model: \"sequential\"\n",
      "_________________________________________________________________\n",
      " Layer (type)                Output Shape              Param #   \n",
      "=================================================================\n",
      " batch_normalization (BatchN  (None, 250, 250, 3)      12        \n",
      " ormalization)                                                   \n",
      "                                                                 \n",
      " conv2d (Conv2D)             (None, 248, 248, 32)      896       \n",
      "                                                                 \n",
      " max_pooling2d (MaxPooling2D  (None, 124, 124, 32)     0         \n",
      " )                                                               \n",
      "                                                                 \n",
      " conv2d_1 (Conv2D)           (None, 122, 122, 64)      18496     \n",
      "                                                                 \n",
      " max_pooling2d_1 (MaxPooling  (None, 61, 61, 64)       0         \n",
      " 2D)                                                             \n",
      "                                                                 \n",
      " conv2d_2 (Conv2D)           (None, 59, 59, 128)       73856     \n",
      "                                                                 \n",
      " max_pooling2d_2 (MaxPooling  (None, 29, 29, 128)      0         \n",
      " 2D)                                                             \n",
      "                                                                 \n",
      " conv2d_3 (Conv2D)           (None, 27, 27, 256)       295168    \n",
      "                                                                 \n",
      " max_pooling2d_3 (MaxPooling  (None, 13, 13, 256)      0         \n",
      " 2D)                                                             \n",
      "                                                                 \n",
      " flatten (Flatten)           (None, 43264)             0         \n",
      "                                                                 \n",
      " dense (Dense)               (None, 512)               22151680  \n",
      "                                                                 \n",
      " dense_1 (Dense)             (None, 2)                 1026      \n",
      "                                                                 \n",
      "=================================================================\n",
      "Total params: 22,541,134\n",
      "Trainable params: 22,541,128\n",
      "Non-trainable params: 6\n",
      "_________________________________________________________________\n"
     ]
    }
   ],
   "source": [
    "model.build((None, 250, 250, 3))\n",
    "model.summary()"
   ]
  },
  {
   "cell_type": "code",
   "execution_count": 11,
   "id": "c18e9b4f",
   "metadata": {
    "papermill": {
     "duration": 1.281486,
     "end_time": "2022-06-06T11:22:13.449301",
     "exception": false,
     "start_time": "2022-06-06T11:22:12.167815",
     "status": "completed"
    },
    "tags": []
   },
   "outputs": [
    {
     "name": "stdout",
     "output_type": "stream",
     "text": [
      "You must install pydot (`pip install pydot`) and install graphviz (see instructions at https://graphviz.gitlab.io/download/) for plot_model to work.\n"
     ]
    }
   ],
   "source": [
    "plot_model(model, show_shapes=True)"
   ]
  },
  {
   "cell_type": "code",
   "execution_count": null,
   "id": "0192e7be",
   "metadata": {
    "papermill": {
     "duration": 1370.724139,
     "end_time": "2022-06-06T11:45:04.194454",
     "exception": false,
     "start_time": "2022-06-06T11:22:13.470315",
     "status": "completed"
    },
    "tags": []
   },
   "outputs": [
    {
     "name": "stdout",
     "output_type": "stream",
     "text": [
      "Epoch 1/20\n",
      "8/8 [==============================] - ETA: 0s - loss: 2.3549 - accuracy: 0.4817\n",
      "Epoch 1: val_accuracy improved from -inf to 0.53061, saving model to model_weights.h5\n",
      "8/8 [==============================] - 47s 6s/step - loss: 2.3549 - accuracy: 0.4817 - val_loss: 0.7110 - val_accuracy: 0.5306\n",
      "Epoch 2/20\n"
     ]
    }
   ],
   "source": [
    "## lets train our CNN\n",
    "checkpoint = ModelCheckpoint(\"model_weights.h5\", monitor='val_accuracy', verbose=1, save_best_only=True, mode='max')\n",
    "callbacks_list = [checkpoint]\n",
    "history = model.fit(training_data, validation_data=validation_data, epochs = 20, callbacks=callbacks_list)"
   ]
  },
  {
   "cell_type": "code",
   "execution_count": null,
   "id": "1d0e4f18",
   "metadata": {
    "papermill": {
     "duration": 0.09748,
     "end_time": "2022-06-06T11:45:04.382001",
     "exception": false,
     "start_time": "2022-06-06T11:45:04.284521",
     "status": "completed"
    },
    "tags": []
   },
   "outputs": [],
   "source": [
    "###### serialize model structure to JSON\n",
    "model_json = model.to_json()\n",
    "with open(\"model.json\", \"w\") as json_file:\n",
    "    json_file.write(model_json)"
   ]
  },
  {
   "cell_type": "code",
   "execution_count": null,
   "id": "4f688b53",
   "metadata": {
    "papermill": {
     "duration": 0.389861,
     "end_time": "2022-06-06T11:45:04.856513",
     "exception": false,
     "start_time": "2022-06-06T11:45:04.466652",
     "status": "completed"
    },
    "tags": []
   },
   "outputs": [],
   "source": [
    "## stats on training data\n",
    "plt.plot(history.history['loss'], label = 'training loss')\n",
    "plt.plot(history.history['accuracy'], label = 'training accuracy')\n",
    "plt.grid(True)\n",
    "plt.legend()"
   ]
  },
  {
   "cell_type": "code",
   "execution_count": null,
   "id": "aeb2c132",
   "metadata": {
    "papermill": {
     "duration": 0.329018,
     "end_time": "2022-06-06T11:45:05.272358",
     "exception": false,
     "start_time": "2022-06-06T11:45:04.943340",
     "status": "completed"
    },
    "tags": []
   },
   "outputs": [],
   "source": [
    "## stats on training data\n",
    "plt.plot(history.history['val_loss'], label = 'validation loss')\n",
    "plt.plot(history.history['val_accuracy'], label = 'validation accuracy')\n",
    "plt.grid(True)\n",
    "plt.legend()"
   ]
  },
  {
   "cell_type": "code",
   "execution_count": null,
   "id": "5c1b2041",
   "metadata": {
    "papermill": {
     "duration": 7.269324,
     "end_time": "2022-06-06T11:45:12.629596",
     "exception": false,
     "start_time": "2022-06-06T11:45:05.360272",
     "status": "completed"
    },
    "tags": []
   },
   "outputs": [],
   "source": [
    "## lets vizualize results on testing data\n",
    "AccuracyVector = []\n",
    "plt.figure(figsize=(30, 30))\n",
    "for images, labels in testing_data.take(1):\n",
    "    predictions = model.predict(images)\n",
    "    predlabel = []\n",
    "    prdlbl = []\n",
    "    \n",
    "    for mem in predictions:\n",
    "        predlabel.append(class_names[np.argmax(mem)])\n",
    "        prdlbl.append(np.argmax(mem))\n",
    "    \n",
    "    AccuracyVector = np.array(prdlbl) == labels\n",
    "    for i in range(40):\n",
    "        ax = plt.subplot(10, 4, i + 1)\n",
    "        plt.imshow(images[i].numpy().astype(\"uint8\"))\n",
    "        plt.title('Pred: '+ predlabel[i]+' actl:'+class_names[labels[i]] )\n",
    "        plt.axis('off')\n",
    "        plt.grid(True)"
   ]
  },
  {
   "cell_type": "code",
   "execution_count": null,
   "id": "8663a254",
   "metadata": {
    "papermill": {
     "duration": 0.148052,
     "end_time": "2022-06-06T11:45:12.933355",
     "exception": false,
     "start_time": "2022-06-06T11:45:12.785303",
     "status": "completed"
    },
    "tags": []
   },
   "outputs": [],
   "source": []
  }
 ],
 "metadata": {
  "interpreter": {
   "hash": "916dbcbb3f70747c44a77c7bcd40155683ae19c65e1c03b4aa3499c5328201f1"
  },
  "kernelspec": {
   "display_name": "Python 3 (ipykernel)",
   "language": "python",
   "name": "python3"
  },
  "language_info": {
   "codemirror_mode": {
    "name": "ipython",
    "version": 3
   },
   "file_extension": ".py",
   "mimetype": "text/x-python",
   "name": "python",
   "nbconvert_exporter": "python",
   "pygments_lexer": "ipython3",
   "version": "3.11.1"
  },
  "papermill": {
   "default_parameters": {},
   "duration": 1402.432589,
   "end_time": "2022-06-06T11:45:16.380977",
   "environment_variables": {},
   "exception": null,
   "input_path": "__notebook__.ipynb",
   "output_path": "__notebook__.ipynb",
   "parameters": {},
   "start_time": "2022-06-06T11:21:53.948388",
   "version": "2.3.3"
  }
 },
 "nbformat": 4,
 "nbformat_minor": 5
}
